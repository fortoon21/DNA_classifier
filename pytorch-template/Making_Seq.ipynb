{
 "cells": [
  {
   "cell_type": "markdown",
   "metadata": {},
   "source": [
    "# DNA_classifier에 맞는 bias, weights 모델 불러오기"
   ]
  },
  {
   "cell_type": "code",
   "execution_count": 1,
   "metadata": {
    "ExecuteTime": {
     "end_time": "2021-01-10T06:47:36.051240Z",
     "start_time": "2021-01-10T06:47:25.260551Z"
    }
   },
   "outputs": [],
   "source": [
    "import torch\n",
    "import torch.nn as nn\n",
    "import torch.nn.functional as F\n",
    "from base import BaseModel\n",
    "from trainer import *\n",
    "from model import *\n",
    "from sklearn.datasets import make_classification\n",
    "confined_b = Confined_bias.apply\n",
    "confined_w = Confined_weight.apply"
   ]
  },
  {
   "cell_type": "markdown",
   "metadata": {
    "ExecuteTime": {
     "end_time": "2020-11-27T04:31:38.074848Z",
     "start_time": "2020-11-27T04:31:38.067834Z"
    }
   },
   "source": [
    "## 3-4-2 node 로 구성된 classifier 생성"
   ]
  },
  {
   "cell_type": "code",
   "execution_count": 3,
   "metadata": {
    "ExecuteTime": {
     "end_time": "2021-01-10T06:49:55.449239Z",
     "start_time": "2021-01-10T06:49:55.432275Z"
    }
   },
   "outputs": [],
   "source": [
    "layers=[3,4,2]"
   ]
  },
  {
   "cell_type": "markdown",
   "metadata": {},
   "source": [
    "### 각 맞는 directory에서 model의 best weight 불러오고 확인"
   ]
  },
  {
   "cell_type": "code",
   "execution_count": 5,
   "metadata": {
    "ExecuteTime": {
     "end_time": "2021-01-10T06:50:10.053645Z",
     "start_time": "2021-01-10T06:50:09.996797Z"
    }
   },
   "outputs": [
    {
     "name": "stdout",
     "output_type": "stream",
     "text": [
      "tensor(11)\n",
      "tensor([[-0.2000,  0.0000, -0.2000],\n",
      "        [ 0.3000, -0.4000,  0.2000],\n",
      "        [-0.3000, -0.4000, -0.3000],\n",
      "        [ 0.7000,  0.7000, -0.3000]])\n",
      "tensor(2)\n",
      "tensor([ 0.0000, -0.2260,  0.0000, -0.5100])\n",
      "tensor(8)\n",
      "tensor([[-0.4000, -0.3000, -0.2000, -0.7000],\n",
      "        [-0.4000,  0.3000, -0.1000,  0.7000]])\n",
      "tensor(1)\n",
      "tensor([ 0.0000, -0.3390])\n",
      "tensor([[-0.2000,  0.3000, -0.3000,  0.7000],\n",
      "        [ 0.0000, -0.4000, -0.4000,  0.7000],\n",
      "        [-0.2000,  0.2000, -0.3000, -0.3000]])\n",
      "tensor([[-0.4000, -0.4000],\n",
      "        [-0.3000,  0.3000],\n",
      "        [-0.2000, -0.1000],\n",
      "        [-0.7000,  0.7000]])\n",
      "\n"
     ]
    }
   ],
   "source": [
    "model = Model(*layers)\n",
    "loading = torch.load('saved/models/sklearn_net/clinear_4_2_scaled_bt_1/model_best.pth', map_location='cpu')\n",
    "sd = loading['state_dict']\n",
    "model.load_state_dict(sd)\n",
    "model.eval()\n",
    "\n",
    "weights={}\n",
    "biases={}\n",
    "for i in range(len(layers)-1):\n",
    "    weights['weight'+str(i+1)]=confined_w(sd['fc'+str(i+1)+'.weight'])\n",
    "    biases['bias'+str(i+1)]=confined_b(sd['fc'+str(i+1)+'.bias'])\n",
    "    print(sum(sum(weights['weight'+str(i+1)]!=0)))\n",
    "    print(weights['weight'+str(i+1)])\n",
    "    print(sum(biases['bias'+str(i+1)]!=0))\n",
    "    print(biases['bias'+str(i+1)])\n",
    "for i in range(len(layers)-1):\n",
    "    weights['weight'+str(i+1)+'_t']=torch.transpose(weights['weight'+str(i+1)],0,1)\n",
    "    print(weights['weight'+str(i+1)+'_t'])    \n",
    "print()"
   ]
  },
  {
   "cell_type": "markdown",
   "metadata": {},
   "source": [
    "## Seesaw compiler로 만든 파일에서 붙여넣어 여러 orthogonal sequence 생성"
   ]
  },
  {
   "cell_type": "code",
   "execution_count": 6,
   "metadata": {
    "ExecuteTime": {
     "end_time": "2021-01-10T06:51:09.985313Z",
     "start_time": "2021-01-10T06:51:09.971316Z"
    }
   },
   "outputs": [],
   "source": [
    "sequences=\"\"\"S4\t= CATCCATTCCACTCA\tS4*\t= TGAGTGGAATGGATG\n",
    "S5\t= CACCACCAAACTTCA\tS5*\t= TGAAGTTTGGTGGTG\n",
    "S6\t= CATAACACAATCACA\tS6*\t= TGTGATTGTGTTATG\n",
    "S7\t= CACTAACATACAACA\tS7*\t= TGTTGTATGTTAGTG\n",
    "S8\t= CATACAACATCTACA\tS8*\t= TGTAGATGTTGTATG\n",
    "S9\t= CATCAATCAACACCA\tS9*\t= TGGTGTTGATTGATG\n",
    "S10\t= CACAACTCATTACCA\tS10*\t= TGGTAATGAGTTGTG\n",
    "S11\t= CATCTTCTAACATCA\tS11*\t= TGATGTTAGAAGATG\n",
    "S12\t= CAATCTAACACTCCA\tS12*\t= TGGAGTGTTAGATTG\n",
    "S13\t= CAACCATACTAAACA\tS13*\t= TGTTTAGTATGGTTG\n",
    "S14\t= CATTCCTACATTTCA\tS14*\t= TGAAATGTAGGAATG\n",
    "S15\t= CAAATCTTCATCCCA\tS15*\t= TGGGATGAAGATTTG\n",
    "S16\t= CACTCATCCTTTACA\tS16*\t= TGTAAAGGATGAGTG\n",
    "S17\t= CAATTCACTCAATCA\tS17*\t= TGATTGAGTGAATTG\n",
    "S18\t= CATTCATTACCTCCA\tS18*\t= TGGAGGTAATGAATG\n",
    "S19\t= CAAACACTCTATTCA\tS19*\t= TGAATAGAGTGTTTG\n",
    "S20\t= CATCTACAATTCACA\tS20*\t= TGTGAATTGTAGATG\n",
    "S21\t= CACCAATACTCCTCA\tS21*\t= TGAGGAGTATTGGTG\n",
    "S22\t= CACCATTACAATCCA\tS22*\t= TGGATTGTAATGGTG\n",
    "S23\t= CAATCCACACTTCCA\tS23*\t= TGGAAGTGTGGATTG\n",
    "S24\t= CACACTTCAAACTCA\tS24*\t= TGAGTTTGAAGTGTG\n",
    "S25\t= CAACTCAAACATACA\tS25*\t= TGTATGTTTGAGTTG\n",
    "S26\t= CACATAACAAAACCA\tS26*\t= TGGTTTTGTTATGTG\n",
    "S27\t= CACTCTCCATCACCA\tS27*\t= TGGTGATGGAGAGTG\n",
    "S28\t= CAAACTAAACAACCA\tS28*\t= TGGTTGTTTAGTTTG\n",
    "S29\t= CACCTCTTCCCTTCA\tS29*\t= TGAAGGGAAGAGGTG\n",
    "S30\t= CATACCCTTTTCTCA\tS30*\t= TGAGAAAAGGGTATG\n",
    "S31\t= CACCCAAAACCCACA\tS31*\t= TGTGGGTTTTGGGTG\n",
    "S32\t= CAACTTTCATATCCA\tS32*\t= TGGATATGAAAGTTG\n",
    "S33\t= CAAACCCAACTCACA\tS33*\t= TGTGAGTTGGGTTTG\n",
    "S34\t= CATTCTCCCACCTCA\tS34*\t= TGAGGTGGGAGAATG\n",
    "S35\t= CATCACCACTATACA\tS35*\t= TGTATAGTGGTGATG\n",
    "S36\t= CATCCTTAACTCCCA\tS36*\t= TGGGAGTTAAGGATG\n",
    "S37\t= CATTACCAACCACCA\tS37*\t= TGGTGGTTGGTAATG\n",
    "S38\t= CAATACAAATCCACA\tS38*\t= TGTGGATTTGTATTG\n",
    "S39\t= CACAAACTACATCCA\tS39*\t= TGGATGTAGTTTGTG\n",
    "S40\t= CACTTCACAACTACA\tS40*\t= TGTAGTTGTGAAGTG\n",
    "S41\t= CAACAAACCATTACA\tS41*\t= TGTAATGGTTTGTTG\n",
    "S42\t= CACATTCAACCTACA\tS42*\t= TGTAGGTTGAATGTG\n",
    "S43\t= CACATCATATCATCA\tS43*\t= TGATGATATGATGTG\n",
    "S44\t= CACTTTTCACTATCA\tS44*\t= TGATAGTGAAAAGTG\n",
    "S45\t= CATTTCCCAAACCCA\tS45*\t= TGGGTTTGGGAAATG\n",
    "S46\t= CATCCCACATAACCA\tS46*\t= TGGTTATGTGGGATG\n",
    "S47\t= CAACCTTCTACCACA\tS47*\t= TGTGGTAGAAGGTTG\n",
    "S56\t= CACTACTAACTTACA\tS56*\t= TGTAAGTTAGTAGTG\n",
    "S58\t= CATCTCTCCTTATCA\tS58*\t= TGATAAGGAGAGATG\n",
    "S60\t= CACCTAATCTTTCCA\tS60*\t= TGGAAAGATTAGGTG\n",
    "S62\t= CACTTACACTAATCA\tS62*\t= TGATTAGTGTAAGTG\"\"\""
   ]
  },
  {
   "cell_type": "code",
   "execution_count": 7,
   "metadata": {
    "ExecuteTime": {
     "end_time": "2021-01-10T06:51:12.145062Z",
     "start_time": "2021-01-10T06:51:12.125117Z"
    },
    "scrolled": true
   },
   "outputs": [
    {
     "data": {
      "text/plain": [
       "[('CATCCATTCCACTCA', 'TGAGTGGAATGGATG'),\n",
       " ('CACCACCAAACTTCA', 'TGAAGTTTGGTGGTG'),\n",
       " ('CATAACACAATCACA', 'TGTGATTGTGTTATG'),\n",
       " ('CACTAACATACAACA', 'TGTTGTATGTTAGTG'),\n",
       " ('CATACAACATCTACA', 'TGTAGATGTTGTATG')]"
      ]
     },
     "execution_count": 7,
     "metadata": {},
     "output_type": "execute_result"
    }
   ],
   "source": [
    "splited=sequences.split('\\n')\n",
    "seqs=[]\n",
    "seqs_p=[]\n",
    "\n",
    "s=0\n",
    "for i in range(len(layers)-1):\n",
    "    s+=layers[i]*layers[i+1]\n",
    "\n",
    "for i in range(s) :\n",
    "    tmp, m = splited[i].split('= ')[1:3]\n",
    "    p = tmp.split('\\t')[0]\n",
    "    seqs.append((p,m))\n",
    "seqs[:5]"
   ]
  },
  {
   "cell_type": "markdown",
   "metadata": {},
   "source": [
    "### validation을 위한 함수 생성"
   ]
  },
  {
   "cell_type": "code",
   "execution_count": 35,
   "metadata": {
    "ExecuteTime": {
     "end_time": "2020-11-27T05:52:44.140609Z",
     "start_time": "2020-11-27T05:52:44.132596Z"
    }
   },
   "outputs": [],
   "source": [
    "def val_ck(seq, ck, mode='comp'):\n",
    "    t=''\n",
    "    for n in seq:\n",
    "        if n=='A':\n",
    "            t+='T'\n",
    "        elif n=='G':\n",
    "            t+='C'\n",
    "        elif n=='C':\n",
    "            t+='G'\n",
    "        elif n=='T':\n",
    "            t+='A'\n",
    "    if mode!='comp':\n",
    "        t=t[::-1]\n",
    "    print(t==ck)\n",
    "\n",
    "def mk_seq(seq, mode='comp'):\n",
    "    t=''\n",
    "    for n in seq:\n",
    "        if n=='A':\n",
    "            t+='T'\n",
    "        elif n=='G':\n",
    "            t+='C'\n",
    "        elif n=='C':\n",
    "            t+='G'\n",
    "        elif n=='T':\n",
    "            t+='A'\n",
    "    if mode!='comp':\n",
    "        t=t[::-1]\n",
    "    return t"
   ]
  },
  {
   "cell_type": "code",
   "execution_count": 11,
   "metadata": {
    "ExecuteTime": {
     "end_time": "2020-11-27T04:41:51.753731Z",
     "start_time": "2020-11-27T04:41:51.736779Z"
    }
   },
   "outputs": [],
   "source": [
    "seq_layers=[]\n",
    "start=0\n",
    "\n",
    "for i in range(len(layers)): # input, weight strand\n",
    "    seq_layers.append(seqs[start:start+layers[i]])\n",
    "    start+=layers[i]\n",
    "    \n",
    "for i in range(len(layers)-1): # bias strand\n",
    "    seq_layers.append(seqs[start:start+layers[i+1]])\n",
    "    start+=layers[i+1]\n",
    "    \n",
    "seq_layers.append(seqs[start:start+layers[-1]]) # output strand(flourescence)\n",
    "start+=layers[-1]\n",
    "\n",
    "seq_layers.append([seqs[start]]) # meaningless strand"
   ]
  },
  {
   "cell_type": "code",
   "execution_count": 12,
   "metadata": {
    "ExecuteTime": {
     "end_time": "2020-11-27T04:41:58.715512Z",
     "start_time": "2020-11-27T04:41:58.704541Z"
    }
   },
   "outputs": [
    {
     "data": {
      "text/plain": [
       "[[('CATCCATTCCACTCA', 'TGAGTGGAATGGATG'),\n",
       "  ('CACCACCAAACTTCA', 'TGAAGTTTGGTGGTG'),\n",
       "  ('CATAACACAATCACA', 'TGTGATTGTGTTATG')],\n",
       " [('CACTAACATACAACA', 'TGTTGTATGTTAGTG'),\n",
       "  ('CATACAACATCTACA', 'TGTAGATGTTGTATG'),\n",
       "  ('CATCAATCAACACCA', 'TGGTGTTGATTGATG'),\n",
       "  ('CACAACTCATTACCA', 'TGGTAATGAGTTGTG')],\n",
       " [('CATCTTCTAACATCA', 'TGATGTTAGAAGATG'),\n",
       "  ('CAATCTAACACTCCA', 'TGGAGTGTTAGATTG')],\n",
       " [('CAACCATACTAAACA', 'TGTTTAGTATGGTTG'),\n",
       "  ('CATTCCTACATTTCA', 'TGAAATGTAGGAATG'),\n",
       "  ('CAAATCTTCATCCCA', 'TGGGATGAAGATTTG'),\n",
       "  ('CACTCATCCTTTACA', 'TGTAAAGGATGAGTG')],\n",
       " [('CAATTCACTCAATCA', 'TGATTGAGTGAATTG'),\n",
       "  ('CATTCATTACCTCCA', 'TGGAGGTAATGAATG')],\n",
       " [('CAAACACTCTATTCA', 'TGAATAGAGTGTTTG'),\n",
       "  ('CATCTACAATTCACA', 'TGTGAATTGTAGATG')],\n",
       " [('CACCAATACTCCTCA', 'TGAGGAGTATTGGTG')]]"
      ]
     },
     "execution_count": 12,
     "metadata": {},
     "output_type": "execute_result"
    }
   ],
   "source": [
    "seq_layers"
   ]
  },
  {
   "cell_type": "code",
   "execution_count": 17,
   "metadata": {
    "ExecuteTime": {
     "end_time": "2020-11-27T05:04:20.784358Z",
     "start_time": "2020-11-27T05:04:20.600851Z"
    },
    "scrolled": false
   },
   "outputs": [
    {
     "name": "stdout",
     "output_type": "stream",
     "text": [
      "Input\n",
      "5'CATCCATTCCACTCA\n",
      "5'CACCACCAAACTTCA\n",
      "5'CATAACACAATCACA\n",
      "\n",
      "weight\n",
      "                 TGTTGTATGTTAGTG/TGTTGTATGTTAGTG/3'\n",
      "3'GTAGGTAAGGTGAGTACAACATACAATCTGACAACATACAATCTG\n",
      "                 CATACAACATCTACA/CATACAACATCTACA/CATACAACATCTACA/3'\n",
      "3'GTAGGTAAGGTGAGTGTATGTTGTAGATCAGTATGTTGTAGATCAGTATGTTGTAGATCA\n",
      "                 TGGTGTTGATTGATG/TGGTGTTGATTGATG/TGGTGTTGATTGATG/3'\n",
      "3'GTAGGTAAGGTGAGTACCACAACTAACTTGACCACAACTAACTTGACCACAACTAACTTG\n",
      "                 CACAACTCATTACCA/CACAACTCATTACCA/CACAACTCATTACCA/CACAACTCATTACCA/CACAACTCATTACCA/CACAACTCATTACCA/CACAACTCATTACCA/3'\n",
      "3'GTAGGTAAGGTGAGTGTGTTGAGTAATGCAGTGTTGAGTAATGCAGTGTTGAGTAATGCAGTGTTGAGTAATGCAGTGTTGAGTAATGCAGTGTTGAGTAATGCAGTGTTGAGTAATGCA\n",
      "\n",
      "zero\n",
      "                 TGTAGATGTTGTATG/TGTAGATGTTGTATG/TGTAGATGTTGTATG/TGTAGATGTTGTATG/3'\n",
      "3'GTGGTGGTTTGAAGTACATCTACAACATTGACATCTACAACATTGACATCTACAACATTGACATCTACAACATTG\n",
      "                 TGGTGTTGATTGATG/TGGTGTTGATTGATG/TGGTGTTGATTGATG/TGGTGTTGATTGATG/3'\n",
      "3'GTGGTGGTTTGAAGTACCACAACTAACTTGACCACAACTAACTTGACCACAACTAACTTGACCACAACTAACTTG\n",
      "                 CACAACTCATTACCA/CACAACTCATTACCA/CACAACTCATTACCA/CACAACTCATTACCA/CACAACTCATTACCA/CACAACTCATTACCA/CACAACTCATTACCA/3'\n",
      "3'GTGGTGGTTTGAAGTGTGTTGAGTAATGCAGTGTTGAGTAATGCAGTGTTGAGTAATGCAGTGTTGAGTAATGCAGTGTTGAGTAATGCAGTGTTGAGTAATGCAGTGTTGAGTAATGCA\n",
      "\n",
      "                 TGTTGTATGTTAGTG/TGTTGTATGTTAGTG/3'\n",
      "3'GTATTGTGTTAGTGTACAACATACAATCTGACAACATACAATCTG\n",
      "                 CATACAACATCTACA/CATACAACATCTACA/3'\n",
      "3'GTATTGTGTTAGTGTGTATGTTGTAGATCAGTATGTTGTAGATCA\n",
      "                 TGGTGTTGATTGATG/TGGTGTTGATTGATG/TGGTGTTGATTGATG/3'\n",
      "3'GTATTGTGTTAGTGTACCACAACTAACTTGACCACAACTAACTTGACCACAACTAACTTG\n",
      "                 TGGTAATGAGTTGTG/TGGTAATGAGTTGTG/TGGTAATGAGTTGTG/3'\n",
      "3'GTATTGTGTTAGTGTACCATTACTCAACTGACCATTACTCAACTGACCATTACTCAACTG\n",
      "\n",
      "\n",
      "divider\n",
      "                 CACCAATACTCCTCA\n",
      "3'GTGATTGTATGTTGTGTGGTTATGAGGAGT 1.5\n",
      "                 CAACCATACTAAACA\n",
      "3'GTGATTGTATGTTGTGTTGGTATGATTTGT 1\n",
      "\n",
      "\n",
      "                 CACCAATACTCCTCA\n",
      "3'GTATGTTGTAGATGTGTGGTTATGAGGAGT 1.5\n",
      "                 CATTCCTACATTTCA\n",
      "3'GTATGTTGTAGATGTGTAAGGATGTAAAGT 1\n",
      "\n",
      "\n",
      "                 CACCAATACTCCTCA\n",
      "3'GTAGTTAGTTGTGGTGTGGTTATGAGGAGT 1.5\n",
      "                 CAAATCTTCATCCCA\n",
      "3'GTAGTTAGTTGTGGTGTTTAGAAGTAGGGT 1\n",
      "\n",
      "\n",
      "                 CACCAATACTCCTCA\n",
      "3'GTGTTGAGTAATGGTGTGGTTATGAGGAGT 1.5\n",
      "                 CACTCATCCTTTACA\n",
      "3'GTGTTGAGTAATGGTGTGAGTAGGAAATGT 1\n",
      "\n",
      "\n",
      "bias\n",
      "zero\n",
      "3'GTAAGGATGTAAAGT tensor(0.2260)\n",
      "zero\n",
      "3'GTGAGTAGGAAATGT tensor(0.5100)\n",
      "\n",
      "\n",
      "\n",
      "\n",
      "weight\n",
      "                 TGATGTTAGAAGATG/TGATGTTAGAAGATG/TGATGTTAGAAGATG/TGATGTTAGAAGATG/3'\n",
      "3'GTTGGTATGATTTGTACTACAATCTTCTTGACTACAATCTTCTTGACTACAATCTTCTTGACTACAATCTTCTTG\n",
      "                 TGGAGTGTTAGATTG/TGGAGTGTTAGATTG/TGGAGTGTTAGATTG/TGGAGTGTTAGATTG/3'\n",
      "3'GTTGGTATGATTTGTACCTCACAATCTATGACCTCACAATCTATGACCTCACAATCTATGACCTCACAATCTATG\n",
      "\n",
      "                 TGATGTTAGAAGATG/TGATGTTAGAAGATG/TGATGTTAGAAGATG/3'\n",
      "3'GTAAGGATGTAAAGTACTACAATCTTCTTGACTACAATCTTCTTGACTACAATCTTCTTG\n",
      "                 CAATCTAACACTCCA/CAATCTAACACTCCA/CAATCTAACACTCCA/3'\n",
      "3'GTAAGGATGTAAAGTGTTAGATTGTGAGCAGTTAGATTGTGAGCAGTTAGATTGTGAGCA\n",
      "\n",
      "                 TGATGTTAGAAGATG/TGATGTTAGAAGATG/3'\n",
      "3'GTTTAGAAGTAGGGTACTACAATCTTCTTGACTACAATCTTCTTG\n",
      "                 TGGAGTGTTAGATTG/3'\n",
      "3'GTTTAGAAGTAGGGTACCTCACAATCTATG\n",
      "\n",
      "                 TGATGTTAGAAGATG/TGATGTTAGAAGATG/TGATGTTAGAAGATG/TGATGTTAGAAGATG/TGATGTTAGAAGATG/TGATGTTAGAAGATG/TGATGTTAGAAGATG/3'\n",
      "3'GTGAGTAGGAAATGTACTACAATCTTCTTGACTACAATCTTCTTGACTACAATCTTCTTGACTACAATCTTCTTGACTACAATCTTCTTGACTACAATCTTCTTGACTACAATCTTCTTG\n",
      "                 CAATCTAACACTCCA/CAATCTAACACTCCA/CAATCTAACACTCCA/CAATCTAACACTCCA/CAATCTAACACTCCA/CAATCTAACACTCCA/CAATCTAACACTCCA/3'\n",
      "3'GTGAGTAGGAAATGTGTTAGATTGTGAGCAGTTAGATTGTGAGCAGTTAGATTGTGAGCAGTTAGATTGTGAGCAGTTAGATTGTGAGCAGTTAGATTGTGAGCAGTTAGATTGTGAGCA\n",
      "\n",
      "\n",
      "divider\n",
      "                 CACCAATACTCCTCA\n",
      "3'GTAGAAGATTGTAGTGTGGTTATGAGGAGT 4.0\n",
      "                 CAATTCACTCAATCA\n",
      "3'GTAGAAGATTGTAGTGTTAAGTGAGTTAGT 1\n",
      "\n",
      "\n",
      "                 CACCAATACTCCTCA\n",
      "3'GTTAGATTGTGAGGTGTGGTTATGAGGAGT 4.0\n",
      "                 CATTCATTACCTCCA\n",
      "3'GTTAGATTGTGAGGTGTAAGTAATGGAGGT 1\n",
      "\n",
      "\n",
      "bias\n",
      "zero\n",
      "3'GTAAGTAATGGAGGT tensor(0.3390)\n",
      "\n",
      "\n",
      "output\n",
      "                 CAAACACTCTATTCA3'-F\n",
      "3'GTTAAGTGAGTTAGTGTTTGTGAGATAAGT-Q\n",
      "                 CATCTACAATTCACA3'-F\n",
      "3'GTAAGTAATGGAGGTGTAGATGTTAAGTGT-Q\n",
      "\n",
      "\n"
     ]
    }
   ],
   "source": [
    "# 정수형 weight strand 만드는 방법\n",
    "strands={}\n",
    "l=0\n",
    "write_wb=Workbook()\n",
    "write_ws = write_wb.active\n",
    "write_ws['A1'] = 'Input Sequence'\n",
    "\n",
    "print('Input')\n",
    "tmp=[]\n",
    "for i in range(len(seq_layers[0])):\n",
    "    print(\"5'\"+seq_layers[0][i][0])\n",
    "    tmp.append(seq_layers[0][i][0])\n",
    "write_ws.append(tmp)\n",
    "print('')\n",
    "\n",
    "\n",
    "sum_=[]\n",
    "sum_2=[]\n",
    "for i in range(len(layers)-1):    \n",
    "    print('weight')\n",
    "    weight=weights['weight'+str(i+1)+'_t']\n",
    "    bias=biases['bias'+str(i+1)]\n",
    "    \n",
    "    for j in range(weight.size(0)):\n",
    "        ck=0\n",
    "        for k in range(weight.size(1)):\n",
    "            ori_seq_t=' '*15 # empty space\n",
    "            if i==0:\n",
    "                ori_seq_b=seq_layers[i][j][1][::-1] # complementary bind site\n",
    "            else :\n",
    "                ori_seq_b=seq_layers[i+len(layers)-1][j][1][::-1] # complementary bind site\n",
    "            \n",
    "            sum_.append(weight.size(1))\n",
    "            write_ws['A'+str(3*(j+sum(sum_[:-1]))+3)] = 'Layer'+str(i+1)+' Hidden Sequence '+str(sum(sum_2)+k+1)\n",
    "            tmp=[\"5'->3'\",'']\n",
    "            \n",
    "            ele=weight[j][k]\n",
    "            sign=0 if ele>=0 else 1\n",
    "            num=abs(int(10*ele))\n",
    "            \n",
    "            if num==0:\n",
    "                print('zero')\n",
    "                continue\n",
    "            \n",
    "            ck+=1\n",
    "            add_t=seq_layers[i+1][k][sign]+'/' # switching\n",
    "            add_b=seq_layers[i+1][k][1-sign][::-1]\n",
    "            \n",
    "            for l in range(num):\n",
    "                tmp.append(add_t[:-1])\n",
    "            \n",
    "            ori_seq_t+=(add_t*num)\n",
    "            ori_seq_b+=((add_b[:-2]+add_t[-3:-1])*(num))\n",
    "            \n",
    "            print(\"  \"+ori_seq_t+\"3'\")\n",
    "            print(\"3'\"+ori_seq_b)\n",
    "            \n",
    "            write_ws.append(tmp)\n",
    "            write_ws['A'+str(3*(j+sum(sum_[:-1]))+5)]=\"3'->5'\"\n",
    "            write_ws['B'+str(3*(j+sum(sum_[:-1]))+5)]=ori_seq_b            \n",
    "            \n",
    "        sum_2.append(ck)\n",
    "        print()\n",
    "        if j==weight.size(0)-1:\n",
    "            print('\\ndivider') # The outputs of hidden layers are less than 10 --> weight.size(1)<10 \n",
    "            \n",
    "            for m in range(bias.size(0)):\n",
    "                d_ori_seq_t=' '*15\n",
    "                d_ori_seq_b=seq_layers[i+1][m][1][::-1] # complementary bind site\n",
    "                                \n",
    "                # Changing & Division\n",
    "                \n",
    "                conc_ratio=10/weight.size(1)-1\n",
    "                print(\"  \"+d_ori_seq_t+seq_layers[-1][0][0])\n",
    "                print(\"3'\"+d_ori_seq_b+seq_layers[-1][0][1][::-1], conc_ratio)\n",
    "                \n",
    "                print(\"  \"+d_ori_seq_t+seq_layers[i+len(layers)][m][0])\n",
    "                print(\"3'\"+d_ori_seq_b+seq_layers[i+len(layers)][m][1][::-1], 1)\n",
    "                print('\\n')\n",
    "            \n",
    "            print('bias')\n",
    "            for m in range(bias.size(0)):\n",
    "                b_ori_seq=seq_layers[i+len(layers)][m][1][::-1] # complementary bind site\n",
    "                conc=abs(bias[m])\n",
    "                if conc==0:\n",
    "                    print('zero')\n",
    "                    continue\n",
    "                print(\"3'\"+b_ori_seq, conc)        \n",
    "            print('\\n')\n",
    "            \n",
    "    if i==len(layers)-2:\n",
    "        print('output')\n",
    "        for m in range(layers[-1]):\n",
    "            o_ori_seq_t=' '*15+seq_layers[i+len(layers)+1][m][0]\n",
    "            o_ori_seq_b=seq_layers[i+len(layers)][m][1][::-1]+seq_layers[i+len(layers)+1][m][1][::-1]\n",
    "            print(\"  \"+o_ori_seq_t+\"3'-F\")\n",
    "            print(\"3'\"+o_ori_seq_b+'-Q')\n",
    "        \n",
    "    print('\\n')\n",
    "\n",
    "write_wb.save('DNA_sequences.xlsx')"
   ]
  },
  {
   "cell_type": "code",
   "execution_count": null,
   "metadata": {},
   "outputs": [],
   "source": [
    "# 정수형 weight strand 만드는 방법\n",
    "strands={}\n",
    "l=0\n",
    "write_wb=Workbook()\n",
    "write_ws = write_wb.active\n",
    "write_ws['A1'] = 'Input Sequence'\n",
    "\n",
    "print('Input')\n",
    "tmp=[]\n",
    "for i in range(len(seq_layers[0])):\n",
    "    print(\"5'\"+seq_layers[0][i][0])\n",
    "    tmp.append(seq_layers[0][i][0])\n",
    "write_ws.append(tmp)\n",
    "print('')\n",
    "\n",
    "\n",
    "sum_=[]\n",
    "sum_2=[]\n",
    "for i in range(len(layers)-1):    \n",
    "    print('weight')\n",
    "    weight=weights['weight'+str(i+1)+'_t']\n",
    "    bias=biases['bias'+str(i+1)]\n",
    "    \n",
    "    for j in range(weight.size(0)):\n",
    "        ck=0\n",
    "        for k in range(weight.size(1)):\n",
    "            ori_seq_t=' '*15 # empty space\n",
    "            if i==0:\n",
    "                ori_seq_b=seq_layers[i][j][1][::-1] # complementary bind site\n",
    "            else :\n",
    "                ori_seq_b=seq_layers[i+len(layers)-1][j][1][::-1] # complementary bind site\n",
    "            \n",
    "            sum_.append(weight.size(1))\n",
    "            write_ws['A'+str(3*(j+sum(sum_[:-1]))+3)] = 'Layer'+str(i+1)+' Hidden Sequence '+str(sum(sum_2)+k+1)\n",
    "            tmp=[\"5'->3'\",'']\n",
    "            \n",
    "            ele=weight[j][k]\n",
    "            sign=0 if ele>=0 else 1\n",
    "            num=abs(int(10*ele))\n",
    "            \n",
    "            if num==0:\n",
    "                print('zero')\n",
    "                continue\n",
    "            \n",
    "            ck+=1\n",
    "            add_t=seq_layers[i+1][k][sign]+'/' # switching\n",
    "            add_b=seq_layers[i+1][k][1-sign][::-1]\n",
    "            \n",
    "            for l in range(num):\n",
    "                tmp.append(add_t[:-1])\n",
    "            \n",
    "            ori_seq_t+=(add_t*num)\n",
    "            ori_seq_b+=((add_b[:-2]+add_t[-3:-1])*(num))\n",
    "            \n",
    "            print(\"  \"+ori_seq_t+\"3'\")\n",
    "            print(\"3'\"+ori_seq_b)\n",
    "            \n",
    "            write_ws.append(tmp)\n",
    "            write_ws['A'+str(3*(j+sum(sum_[:-1]))+5)]=\"3'->5'\"\n",
    "            write_ws['B'+str(3*(j+sum(sum_[:-1]))+5)]=ori_seq_b            \n",
    "            \n",
    "        sum_2.append(ck)\n",
    "        print()\n",
    "        if j==weight.size(0)-1:\n",
    "            print('\\ndivider') # The outputs of hidden layers are less than 10 --> weight.size(1)<10  \n",
    "            for m in range(bias.size(0)):\n",
    "                if m==bias.size(0)-1:\n",
    "                    d_ori_seq_t=' '*15\n",
    "                    d_ori_seq_b=seq_layers[i+1][m][0][::-1] # bind site\n",
    "                else :\n",
    "                    d_ori_seq_t=' '*15\n",
    "                    d_ori_seq_b=seq_layers[i+1][m][1][::-1] # complementary bind site\n",
    "                                \n",
    "                # Changing & Division\n",
    "                \n",
    "                conc_ratio=10/weight.size(1)-1\n",
    "                print(\"  \"+d_ori_seq_t+seq_layers[-1][0][0])\n",
    "                print(\"3'\"+d_ori_seq_b+seq_layers[-1][0][1][::-1], conc_ratio)\n",
    "                \n",
    "                print(\"  \"+d_ori_seq_t+seq_layers[i+len(layers)][m][0])\n",
    "                print(\"3'\"+d_ori_seq_b+seq_layers[i+len(layers)][m][1][::-1], 1)\n",
    "                print('\\n')\n",
    "            \n",
    "            print('bias')\n",
    "            for m in range(bias.size(0)):\n",
    "                if m==bias.size(0)-1:\n",
    "                    b_ori_seq=seq_layers[i+len(layers)][m][0][::-1] # bind site\n",
    "                else :\n",
    "                    b_ori_seq=seq_layers[i+len(layers)][m][1][::-1] # complementary bind site\n",
    "                conc=abs(bias[m])\n",
    "                if conc==0:\n",
    "                    print('zero')\n",
    "                    continue\n",
    "                print(\"3'\"+b_ori_seq, conc)        \n",
    "            print('\\n')\n",
    "            \n",
    "    if i==len(layers)-2:\n",
    "        print('output')\n",
    "        for m in range(layers[-1]):\n",
    "            o_ori_seq_t=' '*15+seq_layers[i+len(layers)+1][m][0]\n",
    "            o_ori_seq_b=seq_layers[i+len(layers)][m][1][::-1]+seq_layers[i+len(layers)+1][m][1][::-1]\n",
    "            print(\"  \"+o_ori_seq_t+\"3'-F\")\n",
    "            print(\"3'\"+o_ori_seq_b+'-Q')\n",
    "        \n",
    "    print('\\n')\n",
    "\n",
    "write_wb.save('DNA_sequences.xlsx')"
   ]
  },
  {
   "cell_type": "code",
   "execution_count": 34,
   "metadata": {
    "ExecuteTime": {
     "end_time": "2020-11-27T05:51:20.696273Z",
     "start_time": "2020-11-27T05:51:20.677322Z"
    }
   },
   "outputs": [
    {
     "data": {
      "text/plain": [
       "True"
      ]
     },
     "execution_count": 34,
     "metadata": {},
     "output_type": "execute_result"
    }
   ],
   "source": [
    "# val_ck('CAATCTAACACTCCA','GTTAGATTGTGAGGT', 'comp')\n",
    "val_ck('CATCTTCTAACATCA', 'TGATGTTAGAAGATG')"
   ]
  },
  {
   "cell_type": "code",
   "execution_count": 57,
   "metadata": {
    "ExecuteTime": {
     "end_time": "2020-11-04T04:10:01.962059Z",
     "start_time": "2020-11-04T04:10:01.949072Z"
    }
   },
   "outputs": [
    {
     "name": "stdout",
     "output_type": "stream",
     "text": [
      "tensor([[-0.2000,  0.3000, -0.3000,  0.7000],\n",
      "        [ 0.0000, -0.4000, -0.4000,  0.7000],\n",
      "        [-0.2000,  0.2000, -0.3000, -0.3000]])\n",
      "tensor([[-0.4000, -0.4000],\n",
      "        [-0.3000,  0.3000],\n",
      "        [-0.2000, -0.1000],\n",
      "        [-0.7000,  0.7000]])\n"
     ]
    }
   ],
   "source": [
    "for i in range(len(layers)-1):\n",
    "    print(weights['weight'+str(i+1)+'_t'])"
   ]
  },
  {
   "cell_type": "code",
   "execution_count": 37,
   "metadata": {
    "ExecuteTime": {
     "end_time": "2020-11-27T05:56:56.482486Z",
     "start_time": "2020-11-27T05:56:56.470518Z"
    }
   },
   "outputs": [
    {
     "name": "stdout",
     "output_type": "stream",
     "text": [
      "Input\n",
      "5'CAACCATACTAAACA3'\n",
      "\n",
      "weight 1\n",
      "                 CATCTTCTAACATCA/CATCTTCTAACATCA\n",
      "3'GTTGGTATGATTTGTGTAGAAGATTGTACAGTAGAAGATTGTACA\n",
      "\n",
      "weight 2\n",
      "                 TGATGTTAGAAGATG\n",
      "3'GTTGGTATGATTTGTACTACAATCTTCTTG\n",
      "\n",
      "divider\n",
      "                 CAATTCACTCAATCA\n",
      "3'GTAGAAGATTGTAGTGTTAAGTGAGTTAGT 1\n",
      "\n",
      "output\n",
      "                 CAAACACTCTATTCA/3'-F\n",
      "3'GTTAAGTGAGTTAGTGTTTGTGAGATAAGT-Q\n",
      "\n",
      "F=ROX\n",
      "Q=BHQ-2\n"
     ]
    }
   ],
   "source": [
    "print(\"\"\"Input\n",
    "5'CAACCATACTAAACA3'\n",
    "\"\"\")\n",
    "print(\"\"\"weight 1\n",
    "                 CATCTTCTAACATCA/CATCTTCTAACATCA\n",
    "3'GTTGGTATGATTTGTGTAGAAGATTGTACAGTAGAAGATTGTACA\n",
    "\"\"\")\n",
    "\n",
    "print(\"\"\"weight 2\n",
    "                 TGATGTTAGAAGATG\n",
    "3'GTTGGTATGATTTGTACTACAATCTTCTTG\n",
    "\"\"\")\n",
    "\n",
    "print(\"\"\"divider\n",
    "                 CAATTCACTCAATCA\n",
    "3'GTAGAAGATTGTAGTGTTAAGTGAGTTAGT 1\n",
    "\"\"\")\n",
    "                \n",
    "print(\"\"\"output\n",
    "                 CAAACACTCTATTCA/3'-F\n",
    "3'GTTAAGTGAGTTAGTGTTTGTGAGATAAGT-Q\n",
    "\"\"\")\n",
    "print('F=ROX')\n",
    "print('Q=BHQ-2')"
   ]
  },
  {
   "cell_type": "code",
   "execution_count": 39,
   "metadata": {
    "ExecuteTime": {
     "end_time": "2020-11-27T05:59:02.330952Z",
     "start_time": "2020-11-27T05:59:02.311029Z"
    }
   },
   "outputs": [
    {
     "name": "stdout",
     "output_type": "stream",
     "text": [
      "ACATGTTAGAAGATGACATGTTAGAAGATGTGTTTAGTATGGTTG\n",
      "GTTCTTCTAACATCATGTTTAGTATGGTTG\n"
     ]
    }
   ],
   "source": [
    "s=\"GTTGGTATGATTTGTGTAGAAGATTGTACAGTAGAAGATTGTACA\"\n",
    "print(s[::-1])\n",
    "s2=\"GTTGGTATGATTTGTACTACAATCTTCTTG\"\n",
    "print(s2[::-1])"
   ]
  },
  {
   "cell_type": "code",
   "execution_count": 40,
   "metadata": {
    "ExecuteTime": {
     "end_time": "2020-11-27T05:59:32.793396Z",
     "start_time": "2020-11-27T05:59:32.774440Z"
    }
   },
   "outputs": [
    {
     "name": "stdout",
     "output_type": "stream",
     "text": [
      "5'\n",
      "CAACCATACTAAACA\n",
      "\n",
      "CATCTTCTAACATCA\n",
      "ACATGTTAGAAGATGACATGTTAGAAGATGTGTTTAGTATGGTTG\n",
      "\n",
      "TGATGTTAGAAGATG\n",
      "GTTCTTCTAACATCATGTTTAGTATGGTTG\n",
      "\n",
      "CAATTCACTCAATCA\n",
      "TGATTGAGTGAATTGTGATGTTAGAAGATG\n",
      "\n",
      "CAAACACTCTATTCA-ROX\n",
      "BHQ-2-TGAATAGAGTGTTTGTGATTGAGTGAATTG\n",
      "    \n"
     ]
    }
   ],
   "source": [
    "print(\"\"\"5'\n",
    "CAACCATACTAAACA\n",
    "\n",
    "CATCTTCTAACATCA\n",
    "ACATGTTAGAAGATGACATGTTAGAAGATGTGTTTAGTATGGTTG\n",
    "\n",
    "TGATGTTAGAAGATG\n",
    "GTTCTTCTAACATCATGTTTAGTATGGTTG\n",
    "\n",
    "CAATTCACTCAATCA\n",
    "TGATTGAGTGAATTGTGATGTTAGAAGATG\n",
    "\n",
    "CAAACACTCTATTCA-ROX\n",
    "BHQ-2-TGAATAGAGTGTTTGTGATTGAGTGAATTG\n",
    "    \"\"\")"
   ]
  },
  {
   "cell_type": "code",
   "execution_count": null,
   "metadata": {},
   "outputs": [],
   "source": []
  }
 ],
 "metadata": {
  "kernelspec": {
   "display_name": "DNA_classifier",
   "language": "python",
   "name": "dna_classifier"
  },
  "toc": {
   "base_numbering": 1,
   "nav_menu": {},
   "number_sections": true,
   "sideBar": true,
   "skip_h1_title": false,
   "title_cell": "Table of Contents",
   "title_sidebar": "Contents",
   "toc_cell": false,
   "toc_position": {},
   "toc_section_display": true,
   "toc_window_display": false
  },
  "varInspector": {
   "cols": {
    "lenName": 16,
    "lenType": 16,
    "lenVar": 40
   },
   "kernels_config": {
    "python": {
     "delete_cmd_postfix": "",
     "delete_cmd_prefix": "del ",
     "library": "var_list.py",
     "varRefreshCmd": "print(var_dic_list())"
    },
    "r": {
     "delete_cmd_postfix": ") ",
     "delete_cmd_prefix": "rm(",
     "library": "var_list.r",
     "varRefreshCmd": "cat(var_dic_list()) "
    }
   },
   "types_to_exclude": [
    "module",
    "function",
    "builtin_function_or_method",
    "instance",
    "_Feature"
   ],
   "window_display": false
  }
 },
 "nbformat": 4,
 "nbformat_minor": 2
}
