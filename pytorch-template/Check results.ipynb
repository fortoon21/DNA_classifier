{
 "cells": [
  {
   "cell_type": "code",
   "execution_count": 12,
   "metadata": {
    "ExecuteTime": {
     "end_time": "2020-12-02T03:09:56.930709Z",
     "start_time": "2020-12-02T03:09:56.924725Z"
    }
   },
   "outputs": [],
   "source": [
    "import torch\n",
    "import torch.nn as nn\n",
    "import torch.nn.functional as F\n",
    "import pandas as pd\n",
    "from base import BaseModel\n",
    "from trainer import *\n",
    "from model import *\n",
    "from sklearn.datasets import make_classification\n",
    "confined_b = Confined_bias.apply\n",
    "confined_w = Confined_weight.apply"
   ]
  },
  {
   "cell_type": "code",
   "execution_count": 9,
   "metadata": {
    "ExecuteTime": {
     "end_time": "2020-12-02T03:05:30.019376Z",
     "start_time": "2020-12-02T03:05:30.006375Z"
    }
   },
   "outputs": [],
   "source": [
    "# layers=[3,4,2]\n",
    "layers=[20, 8, 3]"
   ]
  },
  {
   "cell_type": "code",
   "execution_count": 10,
   "metadata": {
    "ExecuteTime": {
     "end_time": "2020-12-02T03:06:03.719934Z",
     "start_time": "2020-12-02T03:06:03.669106Z"
    }
   },
   "outputs": [
    {
     "name": "stdout",
     "output_type": "stream",
     "text": [
      "tensor(135, dtype=torch.uint8)\n",
      "tensor([[-0.7000, -0.1000, -0.5000, -0.1000, -0.3000,  0.4000,  0.1000, -0.7000,\n",
      "         -0.6000,  0.2000, -0.3000, -0.1000,  0.4000, -0.7000, -0.4000,  0.2000,\n",
      "         -0.0000,  0.3000, -0.6000,  0.1000],\n",
      "        [ 0.0000,  0.0000,  0.1000,  0.1000, -0.4000, -0.1000, -0.5000,  0.3000,\n",
      "         -0.1000, -0.7000,  0.3000, -0.0000, -0.2000,  0.2000, -0.1000, -0.2000,\n",
      "         -0.4000, -0.2000, -0.3000,  0.1000],\n",
      "        [ 0.2000, -0.3000, -0.2000,  0.3000, -0.2000, -0.3000, -0.5000, -0.2000,\n",
      "         -0.0000, -0.0000,  0.1000,  0.1000, -0.1000, -0.2000,  0.1000, -0.7000,\n",
      "         -0.4000,  0.4000, -0.1000, -0.5000],\n",
      "        [ 0.2000,  0.0000, -0.1000, -0.5000, -0.3000, -0.5000, -0.5000,  0.3000,\n",
      "         -0.6000, -0.1000,  0.1000,  0.2000, -0.7000, -0.0000, -0.2000, -0.3000,\n",
      "         -0.1000, -0.6000, -0.1000,  0.2000],\n",
      "        [ 0.0000,  0.0000, -0.1000, -0.1000, -0.4000, -0.2000, -0.2000,  0.1000,\n",
      "         -0.0000,  0.0000, -0.2000,  0.1000,  0.0000,  0.0000, -0.2000, -0.0000,\n",
      "          0.0000,  0.1000,  0.1000, -0.2000],\n",
      "        [ 0.0000, -0.1000, -0.1000, -0.2000, -0.0000,  0.1000, -0.0000,  0.3000,\n",
      "          0.1000, -0.4000,  0.2000, -0.2000, -0.2000,  0.0000,  0.1000,  0.1000,\n",
      "         -0.2000, -0.1000,  0.2000,  0.2000],\n",
      "        [-0.4000, -0.0000, -0.1000, -0.3000,  0.2000, -0.3000, -0.2000,  0.1000,\n",
      "         -0.1000,  0.1000, -0.2000, -0.1000, -0.3000, -0.1000, -0.3000, -0.4000,\n",
      "         -0.1000, -0.4000, -0.1000,  0.1000],\n",
      "        [-0.1000, -0.3000, -0.0000,  0.1000, -0.2000, -0.3000, -0.3000, -0.1000,\n",
      "         -0.3000, -0.3000, -0.2000, -0.2000, -0.1000, -0.0000, -0.0000,  0.1000,\n",
      "         -0.3000, -0.1000, -0.3000, -0.0000]])\n",
      "tensor(8, dtype=torch.uint8)\n",
      "tensor([-0.5420, -0.1720, -0.4510, -0.2240, -0.1550, -0.0190, -0.1230, -0.1330])\n",
      "tensor(22, dtype=torch.uint8)\n",
      "tensor([[ 0.1000,  0.2000, -0.4000,  0.2000,  0.2000,  0.1000,  0.1000,  0.2000],\n",
      "        [ 0.2000,  0.1000, -0.1000, -0.1000,  0.2000, -0.0000, -0.1000, -0.3000],\n",
      "        [-0.0000,  0.1000,  0.5000,  0.1000,  0.1000,  0.1000,  0.1000, -0.2000]])\n",
      "tensor(2, dtype=torch.uint8)\n",
      "tensor([ 0.0000, -0.0790, -1.0990])\n",
      "\n",
      "tensor([[-0.7000,  0.0000,  0.2000,  0.2000,  0.0000,  0.0000, -0.4000, -0.1000],\n",
      "        [-0.1000,  0.0000, -0.3000,  0.0000,  0.0000, -0.1000, -0.0000, -0.3000],\n",
      "        [-0.5000,  0.1000, -0.2000, -0.1000, -0.1000, -0.1000, -0.1000, -0.0000],\n",
      "        [-0.1000,  0.1000,  0.3000, -0.5000, -0.1000, -0.2000, -0.3000,  0.1000],\n",
      "        [-0.3000, -0.4000, -0.2000, -0.3000, -0.4000, -0.0000,  0.2000, -0.2000],\n",
      "        [ 0.4000, -0.1000, -0.3000, -0.5000, -0.2000,  0.1000, -0.3000, -0.3000],\n",
      "        [ 0.1000, -0.5000, -0.5000, -0.5000, -0.2000, -0.0000, -0.2000, -0.3000],\n",
      "        [-0.7000,  0.3000, -0.2000,  0.3000,  0.1000,  0.3000,  0.1000, -0.1000],\n",
      "        [-0.6000, -0.1000, -0.0000, -0.6000, -0.0000,  0.1000, -0.1000, -0.3000],\n",
      "        [ 0.2000, -0.7000, -0.0000, -0.1000,  0.0000, -0.4000,  0.1000, -0.3000],\n",
      "        [-0.3000,  0.3000,  0.1000,  0.1000, -0.2000,  0.2000, -0.2000, -0.2000],\n",
      "        [-0.1000, -0.0000,  0.1000,  0.2000,  0.1000, -0.2000, -0.1000, -0.2000],\n",
      "        [ 0.4000, -0.2000, -0.1000, -0.7000,  0.0000, -0.2000, -0.3000, -0.1000],\n",
      "        [-0.7000,  0.2000, -0.2000, -0.0000,  0.0000,  0.0000, -0.1000, -0.0000],\n",
      "        [-0.4000, -0.1000,  0.1000, -0.2000, -0.2000,  0.1000, -0.3000, -0.0000],\n",
      "        [ 0.2000, -0.2000, -0.7000, -0.3000, -0.0000,  0.1000, -0.4000,  0.1000],\n",
      "        [-0.0000, -0.4000, -0.4000, -0.1000,  0.0000, -0.2000, -0.1000, -0.3000],\n",
      "        [ 0.3000, -0.2000,  0.4000, -0.6000,  0.1000, -0.1000, -0.4000, -0.1000],\n",
      "        [-0.6000, -0.3000, -0.1000, -0.1000,  0.1000,  0.2000, -0.1000, -0.3000],\n",
      "        [ 0.1000,  0.1000, -0.5000,  0.2000, -0.2000,  0.2000,  0.1000, -0.0000]])\n",
      "tensor([[ 0.1000,  0.2000, -0.0000],\n",
      "        [ 0.2000,  0.1000,  0.1000],\n",
      "        [-0.4000, -0.1000,  0.5000],\n",
      "        [ 0.2000, -0.1000,  0.1000],\n",
      "        [ 0.2000,  0.2000,  0.1000],\n",
      "        [ 0.1000, -0.0000,  0.1000],\n",
      "        [ 0.1000, -0.1000,  0.1000],\n",
      "        [ 0.2000, -0.3000, -0.2000]])\n"
     ]
    }
   ],
   "source": [
    "model = Model(*layers)\n",
    "# loading = torch.load('saved/models/sklearn_net/clinear_4_2_scaled_bt_1/model_best.pth', map_location='cpu')\n",
    "loading = torch.load('saved/models/gene_net_3/1027_181212/model_best.pth', map_location='cpu')\n",
    "sd = loading['state_dict']\n",
    "model.load_state_dict(sd)\n",
    "model.eval()\n",
    "\n",
    "weights={}\n",
    "biases={}\n",
    "for i in range(len(layers)-1):\n",
    "    weights['weight'+str(i+1)]=confined_w(sd['fc'+str(i+1)+'.weight'])\n",
    "    biases['bias'+str(i+1)]=confined_b(sd['fc'+str(i+1)+'.bias'])\n",
    "    print(sum(sum(weights['weight'+str(i+1)]!=0)))\n",
    "    print(weights['weight'+str(i+1)])\n",
    "    print(sum(biases['bias'+str(i+1)]!=0))\n",
    "    print(biases['bias'+str(i+1)])\n",
    "print()\n",
    "for i in range(len(layers)-1):\n",
    "    weights['weight'+str(i+1)+'_t']=torch.transpose(weights['weight'+str(i+1)],0,1)\n",
    "    print(weights['weight'+str(i+1)+'_t'])"
   ]
  },
  {
   "cell_type": "code",
   "execution_count": 14,
   "metadata": {
    "ExecuteTime": {
     "end_time": "2020-12-02T03:10:39.557407Z",
     "start_time": "2020-12-02T03:10:39.489589Z"
    }
   },
   "outputs": [
    {
     "name": "stderr",
     "output_type": "stream",
     "text": [
      "C:\\Users\\jy201\\Anaconda3\\lib\\site-packages\\ipykernel_launcher.py:14: UserWarning: To copy construct from a tensor, it is recommended to use sourceTensor.clone().detach() or sourceTensor.clone().detach().requires_grad_(True), rather than torch.tensor(sourceTensor).\n",
      "  \n"
     ]
    },
    {
     "name": "stdout",
     "output_type": "stream",
     "text": [
      "1475.0/1600\n",
      "0.921875\n"
     ]
    }
   ],
   "source": [
    "data_dir='../'\n",
    "rna_exp = pd.read_csv(data_dir+'/tiny_data.tsv', sep='\\t')\n",
    "labels = pd.read_csv(data_dir+'/tiny_label.tsv', sep='\\t')\n",
    "X = rna_exp\n",
    "y_ = labels['cancer type']\n",
    "from sklearn.preprocessing import LabelEncoder\n",
    "lb = LabelEncoder()\n",
    "lb.fit(y_)\n",
    "y=lb.transform(y_)\n",
    "\n",
    "X=torch.tensor(X.to_numpy(), dtype=torch.float32)\n",
    "answer=torch.tensor(y, dtype=torch.long)\n",
    "results={}\n",
    "results['s0']=torch.tensor(X, dtype=torch.float)\n",
    "for i in range(2*len(layers)-3):\n",
    "    if i%2==0:\n",
    "        results['s'+str(i+1)]=torch.mm(results['s'+str(i)], weights['weight'+str(i//2+1)+'_t'])+biases['bias'+str(i//2+1)]\n",
    "    else :\n",
    "        results['s'+str(i+1)]=F.relu(results['s'+str(i)])\n",
    "print(str((torch.argmax(results['s'+str(2*len(layers)-3)], dim=1)==answer).float().sum().numpy())+'/'+str(answer.size(0)))\n",
    "print((torch.argmax(results['s'+str(2*len(layers)-3)], dim=1)==answer).float().sum().numpy()/answer.size(0))\n"
   ]
  },
  {
   "cell_type": "code",
   "execution_count": 23,
   "metadata": {
    "ExecuteTime": {
     "end_time": "2020-12-02T03:12:56.150897Z",
     "start_time": "2020-12-02T03:12:56.142891Z"
    }
   },
   "outputs": [
    {
     "data": {
      "text/plain": [
       "tensor(117750.2109)"
      ]
     },
     "execution_count": 23,
     "metadata": {},
     "output_type": "execute_result"
    }
   ],
   "source": [
    "torch.max(results['s3'])"
   ]
  },
  {
   "cell_type": "code",
   "execution_count": 6,
   "metadata": {
    "ExecuteTime": {
     "end_time": "2020-12-01T09:44:27.023847Z",
     "start_time": "2020-12-01T09:44:26.994960Z"
    }
   },
   "outputs": [
    {
     "name": "stdout",
     "output_type": "stream",
     "text": [
      "중복되는 값 없음!\n",
      "1640.0/2000\n",
      "0.82\n"
     ]
    }
   ],
   "source": [
    "pre_X, y = make_classification(n_samples=2000, n_classes=2, n_informative=3, n_redundant=0, \n",
    "                    n_features=3, random_state=123)\n",
    "# from sklearn import preprocessing\n",
    "# X_normalized = preprocessing.normalize(pre_X, norm='l2')*10\n",
    "X=pre_X + abs(np.min(pre_X)) + np.array([1,1,1])\n",
    "X=np.around(X*0.1, 4)\n",
    "if len(np.unique(X, axis=0))==y.size:\n",
    "    print('중복되는 값 없음!')\n",
    "\n",
    "answer=torch.tensor(y, dtype=torch.long)\n",
    "results={}\n",
    "results['s0']=torch.tensor(X, dtype=torch.float)\n",
    "for i in range(2*len(layers)-3):\n",
    "    if i%2==0:\n",
    "        results['s'+str(i+1)]=torch.mm(results['s'+str(i)], weights['weight'+str(i//2+1)+'_t'])+biases['bias'+str(i//2+1)]\n",
    "    else :\n",
    "        results['s'+str(i+1)]=F.relu(results['s'+str(i)])\n",
    "print(str((torch.argmax(results['s'+str(2*len(layers)-3)], dim=1)==answer).float().sum().numpy())+'/'+str(answer.size(0)))\n",
    "print((torch.argmax(results['s'+str(2*len(layers)-3)], dim=1)==answer).float().sum().numpy()/answer.size(0))\n"
   ]
  },
  {
   "cell_type": "code",
   "execution_count": 8,
   "metadata": {
    "ExecuteTime": {
     "end_time": "2020-12-01T09:46:28.281375Z",
     "start_time": "2020-12-01T09:46:28.216547Z"
    }
   },
   "outputs": [
    {
     "name": "stdout",
     "output_type": "stream",
     "text": [
      "1947\n"
     ]
    }
   ],
   "source": [
    "ck=0\n",
    "for i in range(results['s'+str(2*len(layers)-3)].size(0)):\n",
    "    if results['s'+str(2*len(layers)-3)][i][0]<=0 and results['s'+str(2*len(layers)-3)][i][1]<=0:\n",
    "        ck+=1\n",
    "print(ck)"
   ]
  },
  {
   "cell_type": "code",
   "execution_count": null,
   "metadata": {},
   "outputs": [],
   "source": []
  }
 ],
 "metadata": {
  "kernelspec": {
   "display_name": "Python 3",
   "language": "python",
   "name": "python3"
  },
  "language_info": {
   "codemirror_mode": {
    "name": "ipython",
    "version": 3
   },
   "file_extension": ".py",
   "mimetype": "text/x-python",
   "name": "python",
   "nbconvert_exporter": "python",
   "pygments_lexer": "ipython3",
   "version": "3.7.1"
  },
  "toc": {
   "base_numbering": 1,
   "nav_menu": {},
   "number_sections": true,
   "sideBar": true,
   "skip_h1_title": false,
   "title_cell": "Table of Contents",
   "title_sidebar": "Contents",
   "toc_cell": false,
   "toc_position": {},
   "toc_section_display": true,
   "toc_window_display": false
  },
  "varInspector": {
   "cols": {
    "lenName": 16,
    "lenType": 16,
    "lenVar": 40
   },
   "kernels_config": {
    "python": {
     "delete_cmd_postfix": "",
     "delete_cmd_prefix": "del ",
     "library": "var_list.py",
     "varRefreshCmd": "print(var_dic_list())"
    },
    "r": {
     "delete_cmd_postfix": ") ",
     "delete_cmd_prefix": "rm(",
     "library": "var_list.r",
     "varRefreshCmd": "cat(var_dic_list()) "
    }
   },
   "types_to_exclude": [
    "module",
    "function",
    "builtin_function_or_method",
    "instance",
    "_Feature"
   ],
   "window_display": false
  }
 },
 "nbformat": 4,
 "nbformat_minor": 2
}
