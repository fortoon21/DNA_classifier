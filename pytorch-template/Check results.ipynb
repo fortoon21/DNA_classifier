{
 "cells": [
  {
   "cell_type": "raw",
   "metadata": {},
   "source": [
    "2021.01.12. Jeoung Chanyoung 작성"
   ]
  },
  {
   "cell_type": "code",
   "execution_count": 45,
   "metadata": {
    "ExecuteTime": {
     "end_time": "2021-01-12T07:36:27.431312Z",
     "start_time": "2021-01-12T07:36:27.418315Z"
    }
   },
   "outputs": [],
   "source": [
    "import torch\n",
    "import torch.nn as nn\n",
    "import torch.nn.functional as F\n",
    "import pandas as pd\n",
    "from base import BaseModel\n",
    "from trainer import *\n",
    "from model import *\n",
    "from sklearn.datasets import make_classification\n",
    "from sklearn import svm\n",
    "from sklearn.model_selection import train_test_split\n",
    "confined_b = Confined_bias.apply\n",
    "confined_w = Confined_weight.apply"
   ]
  },
  {
   "cell_type": "code",
   "execution_count": 44,
   "metadata": {
    "ExecuteTime": {
     "end_time": "2021-01-12T07:35:08.436079Z",
     "start_time": "2021-01-12T07:35:08.423089Z"
    }
   },
   "outputs": [],
   "source": [
    "layers=[20, 8, 3]"
   ]
  },
  {
   "cell_type": "code",
   "execution_count": 24,
   "metadata": {
    "ExecuteTime": {
     "end_time": "2021-01-12T04:42:11.291064Z",
     "start_time": "2021-01-12T04:42:11.263111Z"
    }
   },
   "outputs": [
    {
     "name": "stdout",
     "output_type": "stream",
     "text": [
      "tensor(127)\n",
      "tensor([[ 0.0000,  0.3000, -0.1000, -0.1000, -0.1000,  0.1000, -0.2000, -0.1000,\n",
      "          0.2000,  0.4000,  0.0000, -0.2000, -0.2000, -0.4000, -0.2000,  0.1000,\n",
      "         -0.2000,  0.3000, -0.0000,  0.0000],\n",
      "        [-0.2000, -0.0000, -0.1000,  0.2000, -0.4000,  0.3000,  0.1000, -0.1000,\n",
      "         -0.3000, -0.6000, -0.1000,  0.3000, -0.1000,  0.3000, -0.0000,  0.0000,\n",
      "         -0.4000, -0.5000, -0.1000, -0.5000],\n",
      "        [ 0.3000,  0.1000, -0.2000,  0.2000,  0.1000, -0.2000, -0.2000,  0.0000,\n",
      "          0.2000,  0.5000,  0.2000, -0.1000,  0.3000, -0.1000,  0.3000, -0.3000,\n",
      "          0.2000,  0.6000,  0.0000,  0.3000],\n",
      "        [-0.2000, -0.0000, -0.4000, -0.3000, -0.3000, -0.2000, -0.3000, -0.2000,\n",
      "         -0.4000, -0.1000, -0.0000, -0.1000, -0.3000, -0.4000, -0.0000, -0.2000,\n",
      "          0.0000, -0.4000, -0.2000,  0.1000],\n",
      "        [-0.0000, -0.1000, -0.1000,  0.0000, -0.3000, -0.1000, -0.2000,  0.2000,\n",
      "          0.0000, -0.0000, -0.3000,  0.2000, -0.1000,  0.2000, -0.2000, -0.0000,\n",
      "          0.1000,  0.0000,  0.1000, -0.2000],\n",
      "        [ 0.1000, -0.3000, -0.1000, -0.2000, -0.2000, -0.2000, -0.1000,  0.1000,\n",
      "          0.0000, -0.1000,  0.0000, -0.2000,  0.0000, -0.1000, -0.1000, -0.1000,\n",
      "         -0.3000, -0.1000, -0.0000,  0.1000],\n",
      "        [-0.1000, -0.0000,  0.2000, -0.2000,  0.2000, -0.2000,  0.0000,  0.0000,\n",
      "         -0.0000,  0.2000, -0.1000,  0.0000, -0.0000, -0.2000, -0.0000, -0.3000,\n",
      "          0.2000, -0.1000, -0.0000,  0.1000],\n",
      "        [-0.3000, -0.6000,  0.0000,  0.2000, -0.1000,  0.1000,  0.1000, -0.0000,\n",
      "         -0.5000, -0.5000, -0.4000,  0.1000, -0.2000,  0.3000, -0.1000,  0.3000,\n",
      "         -0.3000, -0.3000, -0.1000, -0.3000]])\n",
      "tensor(6)\n",
      "tensor([ 0.0000, -0.3070,  0.0000, -0.2110, -0.1510, -0.1180, -0.0550, -0.2850])\n",
      "tensor(22)\n",
      "tensor([[-0.1000,  0.4000, -0.2000,  0.1000,  0.1000,  0.2000, -0.1000,  0.3000],\n",
      "        [ 0.4000,  0.1000, -0.1000, -0.1000,  0.0000,  0.0000, -0.1000, -0.3000],\n",
      "        [-0.4000,  0.1000,  0.4000,  0.2000,  0.1000,  0.1000,  0.4000, -0.1000]])\n",
      "tensor(1)\n",
      "tensor([-0.2740,  0.0000,  0.0000])\n",
      "\n",
      "tensor([[ 0.0000, -0.2000,  0.3000, -0.2000, -0.0000,  0.1000, -0.1000, -0.3000],\n",
      "        [ 0.3000, -0.0000,  0.1000, -0.0000, -0.1000, -0.3000, -0.0000, -0.6000],\n",
      "        [-0.1000, -0.1000, -0.2000, -0.4000, -0.1000, -0.1000,  0.2000,  0.0000],\n",
      "        [-0.1000,  0.2000,  0.2000, -0.3000,  0.0000, -0.2000, -0.2000,  0.2000],\n",
      "        [-0.1000, -0.4000,  0.1000, -0.3000, -0.3000, -0.2000,  0.2000, -0.1000],\n",
      "        [ 0.1000,  0.3000, -0.2000, -0.2000, -0.1000, -0.2000, -0.2000,  0.1000],\n",
      "        [-0.2000,  0.1000, -0.2000, -0.3000, -0.2000, -0.1000,  0.0000,  0.1000],\n",
      "        [-0.1000, -0.1000,  0.0000, -0.2000,  0.2000,  0.1000,  0.0000, -0.0000],\n",
      "        [ 0.2000, -0.3000,  0.2000, -0.4000,  0.0000,  0.0000, -0.0000, -0.5000],\n",
      "        [ 0.4000, -0.6000,  0.5000, -0.1000, -0.0000, -0.1000,  0.2000, -0.5000],\n",
      "        [ 0.0000, -0.1000,  0.2000, -0.0000, -0.3000,  0.0000, -0.1000, -0.4000],\n",
      "        [-0.2000,  0.3000, -0.1000, -0.1000,  0.2000, -0.2000,  0.0000,  0.1000],\n",
      "        [-0.2000, -0.1000,  0.3000, -0.3000, -0.1000,  0.0000, -0.0000, -0.2000],\n",
      "        [-0.4000,  0.3000, -0.1000, -0.4000,  0.2000, -0.1000, -0.2000,  0.3000],\n",
      "        [-0.2000, -0.0000,  0.3000, -0.0000, -0.2000, -0.1000, -0.0000, -0.1000],\n",
      "        [ 0.1000,  0.0000, -0.3000, -0.2000, -0.0000, -0.1000, -0.3000,  0.3000],\n",
      "        [-0.2000, -0.4000,  0.2000,  0.0000,  0.1000, -0.3000,  0.2000, -0.3000],\n",
      "        [ 0.3000, -0.5000,  0.6000, -0.4000,  0.0000, -0.1000, -0.1000, -0.3000],\n",
      "        [-0.0000, -0.1000,  0.0000, -0.2000,  0.1000, -0.0000, -0.0000, -0.1000],\n",
      "        [ 0.0000, -0.5000,  0.3000,  0.1000, -0.2000,  0.1000,  0.1000, -0.3000]])\n",
      "tensor([[-0.1000,  0.4000, -0.4000],\n",
      "        [ 0.4000,  0.1000,  0.1000],\n",
      "        [-0.2000, -0.1000,  0.4000],\n",
      "        [ 0.1000, -0.1000,  0.2000],\n",
      "        [ 0.1000,  0.0000,  0.1000],\n",
      "        [ 0.2000,  0.0000,  0.1000],\n",
      "        [-0.1000, -0.1000,  0.4000],\n",
      "        [ 0.3000, -0.3000, -0.1000]])\n"
     ]
    }
   ],
   "source": [
    "model = Model(*layers)\n",
    "# 확인하고 싶은 Model 불러오기\n",
    "loading = torch.load('saved/models/gene_net_20/0111_000619/model_best.pth', map_location='cpu')\n",
    "sd = loading['state_dict']\n",
    "model.load_state_dict(sd)\n",
    "model.eval()\n",
    "\n",
    "weights={}\n",
    "biases={}\n",
    "for i in range(len(layers)-1):\n",
    "    weights['weight'+str(i+1)]=confined_w(sd['fc'+str(i+1)+'.weight'])\n",
    "    biases['bias'+str(i+1)]=confined_b(sd['fc'+str(i+1)+'.bias'])\n",
    "    print(sum(sum(weights['weight'+str(i+1)]!=0)))\n",
    "    print(weights['weight'+str(i+1)])\n",
    "    print(sum(biases['bias'+str(i+1)]!=0))\n",
    "    print(biases['bias'+str(i+1)])\n",
    "print()\n",
    "for i in range(len(layers)-1):\n",
    "    weights['weight'+str(i+1)+'_t']=torch.transpose(weights['weight'+str(i+1)],0,1)\n",
    "    print(weights['weight'+str(i+1)+'_t'])"
   ]
  },
  {
   "cell_type": "code",
   "execution_count": 25,
   "metadata": {
    "ExecuteTime": {
     "end_time": "2021-01-12T04:42:12.015405Z",
     "start_time": "2021-01-12T04:42:11.980501Z"
    }
   },
   "outputs": [
    {
     "name": "stdout",
     "output_type": "stream",
     "text": [
      "1589.0/1600\n",
      "0.993125\n"
     ]
    },
    {
     "name": "stderr",
     "output_type": "stream",
     "text": [
      "<ipython-input-25-4a0126c90fce>:14: UserWarning: To copy construct from a tensor, it is recommended to use sourceTensor.clone().detach() or sourceTensor.clone().detach().requires_grad_(True), rather than torch.tensor(sourceTensor).\n",
      "  results['s0']=torch.tensor(X, dtype=torch.float)\n"
     ]
    }
   ],
   "source": [
    "data_dir='../'\n",
    "rna_exp = pd.read_csv(data_dir+'/tiny_data_'+str(layers[0])+'.tsv', sep='\\t')\n",
    "labels = pd.read_csv(data_dir+'/tiny_label_'+str(layers[0])+'.tsv', sep='\\t')\n",
    "X = rna_exp\n",
    "y_ = labels['cancer type']\n",
    "from sklearn.preprocessing import LabelEncoder\n",
    "lb = LabelEncoder()\n",
    "lb.fit(y_)\n",
    "y=lb.transform(y_)\n",
    "\n",
    "X=torch.tensor(X.to_numpy(), dtype=torch.float32)\n",
    "answer=torch.tensor(y, dtype=torch.long)\n",
    "results={}\n",
    "results['s0']=torch.tensor(X, dtype=torch.float)\n",
    "for i in range(2*len(layers)-3):\n",
    "    if i%2==0:\n",
    "        results['s'+str(i+1)]=torch.mm(results['s'+str(i)], weights['weight'+str(i//2+1)+'_t'])+biases['bias'+str(i//2+1)]\n",
    "    else :\n",
    "        results['s'+str(i+1)]=F.relu(results['s'+str(i)])\n",
    "print(str((torch.argmax(results['s'+str(2*len(layers)-3)], dim=1)==answer).float().sum().numpy())+'/'+str(answer.size(0)))\n",
    "print((torch.argmax(results['s'+str(2*len(layers)-3)], dim=1)==answer).float().sum().numpy()/answer.size(0))\n"
   ]
  },
  {
   "cell_type": "code",
   "execution_count": 41,
   "metadata": {
    "ExecuteTime": {
     "end_time": "2021-01-12T04:53:18.984329Z",
     "start_time": "2021-01-12T04:53:18.968375Z"
    }
   },
   "outputs": [],
   "source": [
    "# for SVM\n",
    "X_train, X_test, y_train, y_test = train_test_split(X, y, test_size=0.3, shuffle=True, random_state=42)"
   ]
  },
  {
   "cell_type": "code",
   "execution_count": 42,
   "metadata": {
    "ExecuteTime": {
     "end_time": "2021-01-12T04:53:19.361007Z",
     "start_time": "2021-01-12T04:53:19.339092Z"
    }
   },
   "outputs": [
    {
     "data": {
      "text/plain": [
       "SVC()"
      ]
     },
     "execution_count": 42,
     "metadata": {},
     "output_type": "execute_result"
    }
   ],
   "source": [
    "clf = svm.SVC()\n",
    "clf.fit(X_train, y_train)"
   ]
  },
  {
   "cell_type": "code",
   "execution_count": 43,
   "metadata": {
    "ExecuteTime": {
     "end_time": "2021-01-12T04:53:19.871392Z",
     "start_time": "2021-01-12T04:53:19.850398Z"
    }
   },
   "outputs": [
    {
     "data": {
      "text/plain": [
       "0.9583333333333334"
      ]
     },
     "execution_count": 43,
     "metadata": {},
     "output_type": "execute_result"
    }
   ],
   "source": [
    "# SVM accuracy\n",
    "sum(y_test==clf.predict(X_test))/len(y_test)"
   ]
  },
  {
   "cell_type": "code",
   "execution_count": 34,
   "metadata": {
    "ExecuteTime": {
     "end_time": "2021-01-12T04:52:46.545955Z",
     "start_time": "2021-01-12T04:52:46.528977Z"
    }
   },
   "outputs": [
    {
     "data": {
      "text/plain": [
       "tensor(175662.5000)"
      ]
     },
     "execution_count": 34,
     "metadata": {},
     "output_type": "execute_result"
    }
   ],
   "source": [
    "torch.max(results['s3'])"
   ]
  },
  {
   "cell_type": "code",
   "execution_count": 12,
   "metadata": {
    "ExecuteTime": {
     "end_time": "2021-01-12T04:42:10.683047Z",
     "start_time": "2021-01-12T04:42:10.674106Z"
    }
   },
   "outputs": [],
   "source": [
    "layers=[3, 4, 2]"
   ]
  },
  {
   "cell_type": "code",
   "execution_count": 13,
   "metadata": {
    "ExecuteTime": {
     "end_time": "2021-01-12T04:42:11.291064Z",
     "start_time": "2021-01-12T04:42:11.263111Z"
    }
   },
   "outputs": [
    {
     "name": "stdout",
     "output_type": "stream",
     "text": [
      "tensor(11)\n",
      "tensor([[-0.2000,  0.0000, -0.2000],\n",
      "        [ 0.3000, -0.4000,  0.2000],\n",
      "        [-0.3000, -0.4000, -0.3000],\n",
      "        [ 0.7000,  0.7000, -0.3000]])\n",
      "tensor(2)\n",
      "tensor([ 0.0000, -0.2260,  0.0000, -0.5100])\n",
      "tensor(8)\n",
      "tensor([[-0.4000, -0.3000, -0.2000, -0.7000],\n",
      "        [-0.4000,  0.3000, -0.1000,  0.7000]])\n",
      "tensor(1)\n",
      "tensor([ 0.0000, -0.3390])\n",
      "\n",
      "tensor([[-0.2000,  0.3000, -0.3000,  0.7000],\n",
      "        [ 0.0000, -0.4000, -0.4000,  0.7000],\n",
      "        [-0.2000,  0.2000, -0.3000, -0.3000]])\n",
      "tensor([[-0.4000, -0.4000],\n",
      "        [-0.3000,  0.3000],\n",
      "        [-0.2000, -0.1000],\n",
      "        [-0.7000,  0.7000]])\n"
     ]
    }
   ],
   "source": [
    "model = Model(*layers)\n",
    "# 확인하고 싶은 Model 불러오기\n",
    "loading = torch.load('saved/models/sklearn_net/clinear_4_2_scaled_bt_1/model_best.pth', map_location='cpu')\n",
    "sd = loading['state_dict']\n",
    "model.load_state_dict(sd)\n",
    "model.eval()\n",
    "\n",
    "weights={}\n",
    "biases={}\n",
    "for i in range(len(layers)-1):\n",
    "    weights['weight'+str(i+1)]=confined_w(sd['fc'+str(i+1)+'.weight'])\n",
    "    biases['bias'+str(i+1)]=confined_b(sd['fc'+str(i+1)+'.bias'])\n",
    "    print(sum(sum(weights['weight'+str(i+1)]!=0)))\n",
    "    print(weights['weight'+str(i+1)])\n",
    "    print(sum(biases['bias'+str(i+1)]!=0))\n",
    "    print(biases['bias'+str(i+1)])\n",
    "print()\n",
    "for i in range(len(layers)-1):\n",
    "    weights['weight'+str(i+1)+'_t']=torch.transpose(weights['weight'+str(i+1)],0,1)\n",
    "    print(weights['weight'+str(i+1)+'_t'])"
   ]
  },
  {
   "cell_type": "code",
   "execution_count": 14,
   "metadata": {
    "ExecuteTime": {
     "end_time": "2021-01-12T04:35:28.959149Z",
     "start_time": "2021-01-12T04:35:28.945186Z"
    }
   },
   "outputs": [
    {
     "name": "stdout",
     "output_type": "stream",
     "text": [
      "중복되는 값 없음!\n",
      "1640.0/2000\n",
      "0.82\n"
     ]
    }
   ],
   "source": [
    "pre_X, y = make_classification(n_samples=2000, n_classes=2, n_informative=3, n_redundant=0, \n",
    "                    n_features=3, random_state=123)\n",
    "# from sklearn import preprocessing\n",
    "# X_normalized = preprocessing.normalize(pre_X, norm='l2')*10\n",
    "X=pre_X + abs(np.min(pre_X)) + np.array([1,1,1])\n",
    "X=np.around(X*0.1, 4)\n",
    "if len(np.unique(X, axis=0))==y.size:\n",
    "    print('중복되는 값 없음!')\n",
    "\n",
    "answer=torch.tensor(y, dtype=torch.long)\n",
    "results={}\n",
    "results['s0']=torch.tensor(X, dtype=torch.float)\n",
    "for i in range(2*len(layers)-3):\n",
    "    if i%2==0:\n",
    "        results['s'+str(i+1)]=torch.mm(results['s'+str(i)], weights['weight'+str(i//2+1)+'_t'])+biases['bias'+str(i//2+1)]\n",
    "    else :\n",
    "        results['s'+str(i+1)]=F.relu(results['s'+str(i)])\n",
    "print(str((torch.argmax(results['s'+str(2*len(layers)-3)], dim=1)==answer).float().sum().numpy())+'/'+str(answer.size(0)))\n",
    "print((torch.argmax(results['s'+str(2*len(layers)-3)], dim=1)==answer).float().sum().numpy()/answer.size(0))\n"
   ]
  },
  {
   "cell_type": "code",
   "execution_count": 15,
   "metadata": {
    "ExecuteTime": {
     "end_time": "2021-01-12T04:35:33.083105Z",
     "start_time": "2021-01-12T04:35:32.983782Z"
    }
   },
   "outputs": [
    {
     "name": "stdout",
     "output_type": "stream",
     "text": [
      "1947\n"
     ]
    }
   ],
   "source": [
    "ck=0\n",
    "for i in range(results['s'+str(2*len(layers)-3)].size(0)):\n",
    "    if results['s'+str(2*len(layers)-3)][i][0]<=0 and results['s'+str(2*len(layers)-3)][i][1]<=0:\n",
    "        ck+=1\n",
    "print(ck)"
   ]
  }
 ],
 "metadata": {
  "kernelspec": {
   "display_name": "DNA_classifier",
   "language": "python",
   "name": "dna_classifier"
  },
  "language_info": {
   "codemirror_mode": {
    "name": "ipython",
    "version": 3
   },
   "file_extension": ".py",
   "mimetype": "text/x-python",
   "name": "python",
   "nbconvert_exporter": "python",
   "pygments_lexer": "ipython3",
   "version": "3.8.5"
  },
  "toc": {
   "base_numbering": 1,
   "nav_menu": {},
   "number_sections": true,
   "sideBar": true,
   "skip_h1_title": false,
   "title_cell": "Table of Contents",
   "title_sidebar": "Contents",
   "toc_cell": false,
   "toc_position": {},
   "toc_section_display": true,
   "toc_window_display": false
  },
  "varInspector": {
   "cols": {
    "lenName": 16,
    "lenType": 16,
    "lenVar": 40
   },
   "kernels_config": {
    "python": {
     "delete_cmd_postfix": "",
     "delete_cmd_prefix": "del ",
     "library": "var_list.py",
     "varRefreshCmd": "print(var_dic_list())"
    },
    "r": {
     "delete_cmd_postfix": ") ",
     "delete_cmd_prefix": "rm(",
     "library": "var_list.r",
     "varRefreshCmd": "cat(var_dic_list()) "
    }
   },
   "types_to_exclude": [
    "module",
    "function",
    "builtin_function_or_method",
    "instance",
    "_Feature"
   ],
   "window_display": false
  }
 },
 "nbformat": 4,
 "nbformat_minor": 2
}
